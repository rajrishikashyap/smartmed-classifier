{
 "cells": [
  {
   "cell_type": "markdown",
   "id": "906ae7f1",
   "metadata": {},
   "source": [
    "### Preprocess the Data"
   ]
  },
  {
   "cell_type": "code",
   "execution_count": 5,
   "id": "e6fc62e4",
   "metadata": {},
   "outputs": [],
   "source": [
    "# 1️⃣ IMPORTS\n",
    "import numpy as np\n",
    "import matplotlib.pyplot as plt\n",
    "from tensorflow.keras.utils import to_categorical\n",
    "\n",
    "import medmnist\n",
    "from medmnist import INFO\n",
    "from medmnist.dataset import BreastMNIST\n",
    "\n",
    "# 2️⃣ LOAD DATA\n",
    "data_flag = 'breastmnist'\n",
    "info = INFO[data_flag]\n",
    "\n",
    "train_dataset = BreastMNIST(split='train', download=True)\n",
    "test_dataset = BreastMNIST(split='test', download=True)\n",
    "\n",
    "X_train, y_train = train_dataset.imgs, train_dataset.labels\n",
    "X_test, y_test = test_dataset.imgs, test_dataset.labels\n",
    "\n",
    "# 3️⃣ PREPROCESS\n",
    "X_train = X_train / 255.0\n",
    "X_test = X_test / 255.0\n",
    "\n",
    "X_train = X_train.reshape(-1, 28, 28, 1)\n",
    "X_test = X_test.reshape(-1, 28, 28, 1)\n",
    "\n",
    "y_train_cat = to_categorical(y_train)\n",
    "y_test_cat = to_categorical(y_test)\n"
   ]
  },
  {
   "cell_type": "code",
   "execution_count": 2,
   "id": "11ff955e",
   "metadata": {},
   "outputs": [
    {
     "data": {
      "application/javascript": [
       "\n",
       "        if (window._pyforest_update_imports_cell) { window._pyforest_update_imports_cell('import numpy as np'); }\n",
       "    "
      ],
      "text/plain": [
       "<IPython.core.display.Javascript object>"
      ]
     },
     "metadata": {},
     "output_type": "display_data"
    }
   ],
   "source": []
  },
  {
   "cell_type": "code",
   "execution_count": null,
   "id": "d30a3cf9",
   "metadata": {},
   "outputs": [],
   "source": []
  }
 ],
 "metadata": {
  "kernelspec": {
   "display_name": "Python 3 (ipykernel)",
   "language": "python",
   "name": "python3"
  },
  "language_info": {
   "codemirror_mode": {
    "name": "ipython",
    "version": 3
   },
   "file_extension": ".py",
   "mimetype": "text/x-python",
   "name": "python",
   "nbconvert_exporter": "python",
   "pygments_lexer": "ipython3",
   "version": "3.10.9"
  }
 },
 "nbformat": 4,
 "nbformat_minor": 5
}
