{
 "cells": [
  {
   "cell_type": "markdown",
   "id": "c42f2db6",
   "metadata": {},
   "source": [
    "### Preprocess the Data"
   ]
  },
  {
   "cell_type": "code",
   "execution_count": 5,
   "id": "a0087bea",
   "metadata": {},
   "outputs": [],
   "source": [
    "# 1️⃣ IMPORTS\n",
    "import numpy as np\n",
    "import matplotlib.pyplot as plt\n",
    "from tensorflow.keras.utils import to_categorical\n",
    "\n",
    "import medmnist\n",
    "from medmnist import INFO\n",
    "from medmnist.dataset import BreastMNIST\n",
    "\n",
    "# 2️⃣ LOAD DATA\n",
    "data_flag = 'breastmnist'\n",
    "info = INFO[data_flag]\n",
    "\n",
    "train_dataset = BreastMNIST(split='train', download=True)\n",
    "test_dataset = BreastMNIST(split='test', download=True)\n",
    "\n",
    "X_train, y_train = train_dataset.imgs, train_dataset.labels\n",
    "X_test, y_test = test_dataset.imgs, test_dataset.labels\n",
    "\n",
    "# 3️⃣ PREPROCESS\n",
    "X_train = X_train / 255.0\n",
    "X_test = X_test / 255.0\n",
    "\n",
    "X_train = X_train.reshape(-1, 28, 28, 1)\n",
    "X_test = X_test.reshape(-1, 28, 28, 1)\n",
    "\n",
    "y_train_cat = to_categorical(y_train)\n",
    "y_test_cat = to_categorical(y_test)\n"
   ]
  },
  {
   "cell_type": "markdown",
   "id": "ec382724",
   "metadata": {},
   "source": [
    "### Build the CNN Model"
   ]
  },
  {
   "cell_type": "code",
   "execution_count": 6,
   "id": "b9afc66c",
   "metadata": {},
   "outputs": [
    {
     "name": "stdout",
     "output_type": "stream",
     "text": [
      "WARNING:tensorflow:From C:\\Users\\user\\anaconda3\\lib\\site-packages\\keras\\src\\backend.py:873: The name tf.get_default_graph is deprecated. Please use tf.compat.v1.get_default_graph instead.\n",
      "\n",
      "WARNING:tensorflow:From C:\\Users\\user\\anaconda3\\lib\\site-packages\\keras\\src\\layers\\pooling\\max_pooling2d.py:161: The name tf.nn.max_pool is deprecated. Please use tf.nn.max_pool2d instead.\n",
      "\n"
     ]
    }
   ],
   "source": [
    "from tensorflow.keras.models import Sequential\n",
    "from tensorflow.keras.layers import Conv2D, MaxPooling2D, Flatten, Dense, Dropout\n",
    "\n",
    "model = Sequential([\n",
    "    Conv2D(32, (3, 3), activation='relu', input_shape=(28, 28, 1)),\n",
    "    MaxPooling2D(2, 2),\n",
    "    Conv2D(64, (3, 3), activation='relu'),\n",
    "    MaxPooling2D(2, 2),\n",
    "    Flatten(),\n",
    "    Dense(128, activation='relu'),\n",
    "    Dropout(0.3),\n",
    "    Dense(2, activation='softmax')\n",
    "])\n"
   ]
  },
  {
   "cell_type": "markdown",
   "id": "da7a9a72",
   "metadata": {},
   "source": [
    "### Compile and train"
   ]
  },
  {
   "cell_type": "code",
   "execution_count": 7,
   "id": "b885bab0",
   "metadata": {},
   "outputs": [
    {
     "name": "stdout",
     "output_type": "stream",
     "text": [
      "WARNING:tensorflow:From C:\\Users\\user\\anaconda3\\lib\\site-packages\\keras\\src\\optimizers\\__init__.py:309: The name tf.train.Optimizer is deprecated. Please use tf.compat.v1.train.Optimizer instead.\n",
      "\n",
      "Epoch 1/10\n",
      "WARNING:tensorflow:From C:\\Users\\user\\anaconda3\\lib\\site-packages\\keras\\src\\utils\\tf_utils.py:492: The name tf.ragged.RaggedTensorValue is deprecated. Please use tf.compat.v1.ragged.RaggedTensorValue instead.\n",
      "\n",
      "WARNING:tensorflow:From C:\\Users\\user\\anaconda3\\lib\\site-packages\\keras\\src\\engine\\base_layer_utils.py:384: The name tf.executing_eagerly_outside_functions is deprecated. Please use tf.compat.v1.executing_eagerly_outside_functions instead.\n",
      "\n",
      "14/14 [==============================] - 3s 32ms/step - loss: 0.5726 - accuracy: 0.7110 - val_loss: 0.5478 - val_accuracy: 0.7455\n",
      "Epoch 2/10\n",
      "14/14 [==============================] - 0s 14ms/step - loss: 0.5362 - accuracy: 0.7294 - val_loss: 0.5309 - val_accuracy: 0.7727\n",
      "Epoch 3/10\n",
      "14/14 [==============================] - 0s 12ms/step - loss: 0.5214 - accuracy: 0.7408 - val_loss: 0.5123 - val_accuracy: 0.7909\n",
      "Epoch 4/10\n",
      "14/14 [==============================] - 0s 13ms/step - loss: 0.5049 - accuracy: 0.7500 - val_loss: 0.4887 - val_accuracy: 0.8091\n",
      "Epoch 5/10\n",
      "14/14 [==============================] - 0s 14ms/step - loss: 0.5280 - accuracy: 0.7317 - val_loss: 0.5029 - val_accuracy: 0.8182\n",
      "Epoch 6/10\n",
      "14/14 [==============================] - 0s 15ms/step - loss: 0.4972 - accuracy: 0.7569 - val_loss: 0.5633 - val_accuracy: 0.7545\n",
      "Epoch 7/10\n",
      "14/14 [==============================] - 0s 14ms/step - loss: 0.4805 - accuracy: 0.7775 - val_loss: 0.5002 - val_accuracy: 0.7818\n",
      "Epoch 8/10\n",
      "14/14 [==============================] - 0s 12ms/step - loss: 0.4519 - accuracy: 0.7798 - val_loss: 0.5250 - val_accuracy: 0.7273\n",
      "Epoch 9/10\n",
      "14/14 [==============================] - 0s 14ms/step - loss: 0.4700 - accuracy: 0.7638 - val_loss: 0.5320 - val_accuracy: 0.7364\n",
      "Epoch 10/10\n",
      "14/14 [==============================] - 0s 13ms/step - loss: 0.4446 - accuracy: 0.7867 - val_loss: 0.4629 - val_accuracy: 0.8182\n"
     ]
    }
   ],
   "source": [
    "model.compile(optimizer='adam',\n",
    "              loss='categorical_crossentropy',\n",
    "              metrics=['accuracy'])\n",
    "\n",
    "history = model.fit(\n",
    "    X_train, y_train_cat,\n",
    "    validation_split=0.2,\n",
    "    epochs=10,\n",
    "    batch_size=32\n",
    ")\n"
   ]
  },
  {
   "cell_type": "code",
   "execution_count": 8,
   "id": "ca13175f",
   "metadata": {},
   "outputs": [
    {
     "name": "stderr",
     "output_type": "stream",
     "text": [
      "C:\\Users\\user\\anaconda3\\lib\\site-packages\\keras\\src\\engine\\training.py:3103: UserWarning: You are saving your model as an HDF5 file via `model.save()`. This file format is considered legacy. We recommend using instead the native Keras format, e.g. `model.save('my_model.keras')`.\n",
      "  saving_api.save_model(\n"
     ]
    }
   ],
   "source": [
    "model.save('model/breastmnist_model.h5')"
   ]
  },
  {
   "cell_type": "code",
   "execution_count": null,
   "id": "45546d40",
   "metadata": {},
   "outputs": [],
   "source": []
  }
 ],
 "metadata": {
  "kernelspec": {
   "display_name": "Python 3 (ipykernel)",
   "language": "python",
   "name": "python3"
  },
  "language_info": {
   "codemirror_mode": {
    "name": "ipython",
    "version": 3
   },
   "file_extension": ".py",
   "mimetype": "text/x-python",
   "name": "python",
   "nbconvert_exporter": "python",
   "pygments_lexer": "ipython3",
   "version": "3.10.9"
  }
 },
 "nbformat": 4,
 "nbformat_minor": 5
}
